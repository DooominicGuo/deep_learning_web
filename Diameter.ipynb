{
 "cells": [
  {
   "cell_type": "code",
   "execution_count": 1,
   "metadata": {},
   "outputs": [],
   "source": [
    "import copy\n",
    "import numpy as np\n",
    "from collections import deque"
   ]
  },
  {
   "cell_type": "markdown",
   "metadata": {},
   "source": [
    "### Load data"
   ]
  },
  {
   "cell_type": "code",
   "execution_count": 2,
   "metadata": {},
   "outputs": [],
   "source": [
    "raw_data = []\n",
    "\n",
    "with open(\"./data/PortlandCirc.kp\", \"r\") as f:\n",
    "    for lines in f:\n",
    "        raw_data.append(lines)"
   ]
  },
  {
   "cell_type": "code",
   "execution_count": 3,
   "metadata": {},
   "outputs": [
    {
     "data": {
      "text/plain": [
       "['00010110110101001\\n',\n",
       " '00001001001000000\\n',\n",
       " '00000001001010110\\n',\n",
       " '10000110110001100\\n',\n",
       " '01000001001000010\\n']"
      ]
     },
     "execution_count": 3,
     "metadata": {},
     "output_type": "execute_result"
    }
   ],
   "source": [
    "n_line = int(raw_data[0])\n",
    "\n",
    "if(\"nl\" in raw_data[1]):\n",
    "    raw_relationship = raw_data[2: 2 + n_line]\n",
    "else:\n",
    "    raw_relationship = raw_data[1 + n_line: 1 + n_line * 2]\n",
    "    \n",
    "raw_relationship[0: 5]"
   ]
  },
  {
   "cell_type": "code",
   "execution_count": 4,
   "metadata": {},
   "outputs": [
    {
     "data": {
      "text/plain": [
       "[[0, 0, 0, 1, 0, 1, 1, 0, 1, 1, 0, 1, 0, 1, 0, 0, 1],\n",
       " [0, 0, 0, 0, 1, 0, 0, 1, 0, 0, 1, 0, 0, 0, 0, 0, 0],\n",
       " [0, 0, 0, 0, 0, 0, 0, 1, 0, 0, 1, 0, 1, 0, 1, 1, 0],\n",
       " [1, 0, 0, 0, 0, 1, 1, 0, 1, 1, 0, 0, 0, 1, 1, 0, 0],\n",
       " [0, 1, 0, 0, 0, 0, 0, 1, 0, 0, 1, 0, 0, 0, 0, 1, 0]]"
      ]
     },
     "execution_count": 4,
     "metadata": {},
     "output_type": "execute_result"
    }
   ],
   "source": [
    "data_raw = []\n",
    "\n",
    "for lines in raw_relationship:\n",
    "    lines = lines[: -1]\n",
    "    data_raw.append([int(nums) for nums in list(lines)])\n",
    "\n",
    "data_raw[: 5]"
   ]
  },
  {
   "cell_type": "markdown",
   "metadata": {},
   "source": [
    "### Number of Nodes"
   ]
  },
  {
   "cell_type": "code",
   "execution_count": 5,
   "metadata": {},
   "outputs": [
    {
     "name": "stdout",
     "output_type": "stream",
     "text": [
      "17\n"
     ]
    }
   ],
   "source": [
    "nums_component = len(data_raw)\n",
    "\n",
    "print(nums_component)"
   ]
  },
  {
   "cell_type": "markdown",
   "metadata": {},
   "source": [
    "### Number of Ties"
   ]
  },
  {
   "cell_type": "code",
   "execution_count": 6,
   "metadata": {},
   "outputs": [
    {
     "name": "stdout",
     "output_type": "stream",
     "text": [
      "41\n"
     ]
    }
   ],
   "source": [
    "nums_tie = 0\n",
    "\n",
    "data = copy.deepcopy(data_raw)\n",
    "length = len(data)\n",
    "\n",
    "for row in range(length):\n",
    "    for col in range(length):\n",
    "        if(data[row][col] == 1):\n",
    "            nums_tie += 1\n",
    "            data[col][row] = 0\n",
    "            \n",
    "print(nums_tie)"
   ]
  },
  {
   "cell_type": "markdown",
   "metadata": {},
   "source": [
    "### Number of Components"
   ]
  },
  {
   "cell_type": "code",
   "execution_count": 7,
   "metadata": {},
   "outputs": [],
   "source": [
    "def dfs_double(data, row):\n",
    "    \n",
    "    '''\n",
    "    1. Find all the elements that connects to (1s in the rows)\n",
    "    2. Find all the elements that is connected to (1s in the cols)\n",
    "    '''\n",
    "    \n",
    "    length = len(data)\n",
    "    \n",
    "    for items in range(length):\n",
    "        if(data[row][items] == 0):\n",
    "            continue\n",
    "        data[row][items] = 0\n",
    "        data = dfs_double(data, row)\n",
    "    \n",
    "    for items in range(length):\n",
    "        if(data[items][row] == 0):\n",
    "            continue\n",
    "        data[items][row] = 0    \n",
    "        data = dfs_double(data, items)\n",
    "        \n",
    "    return data"
   ]
  },
  {
   "cell_type": "code",
   "execution_count": 8,
   "metadata": {},
   "outputs": [
    {
     "name": "stdout",
     "output_type": "stream",
     "text": [
      "1\n"
     ]
    }
   ],
   "source": [
    "nums_component = 0\n",
    "\n",
    "data = copy.deepcopy(data_raw)\n",
    "length = len(data)\n",
    "\n",
    "#get the elements that is not connected\n",
    "for i in range(len(data)):\n",
    "    if(1 not in data[i] and 1 not in np.array(data).T[i]):\n",
    "        nums_component += 1\n",
    "\n",
    "#use dfs to get the number of islands\n",
    "for row in range(length):\n",
    "    for col in range(length):\n",
    "        if(data[row][col] == 1):\n",
    "            nums_component += 1\n",
    "            data = dfs_double(data, row)\n",
    "            \n",
    "            \n",
    "print(nums_component)"
   ]
  },
  {
   "cell_type": "markdown",
   "metadata": {},
   "source": [
    "### Largest Shortest Path"
   ]
  },
  {
   "cell_type": "code",
   "execution_count": 9,
   "metadata": {},
   "outputs": [],
   "source": [
    "# This will take in a node and matrix of connections to get all its neighbour nodes\n",
    "def getConnections(node,networkMatrix):\n",
    "    \n",
    "    # List for connections\n",
    "    nodeConnections = []\n",
    "    \n",
    "    # Getting the maximum number of nodes\n",
    "    numNodes = networkCon.shape[0]\n",
    "    \n",
    "    # Loop through all nodes\n",
    "    for currNode in range(0,numNodes):\n",
    "        \n",
    "        # If the provided connection matrix index has a connection...\n",
    "        if networkMatrix[node,currNode]:\n",
    "            \n",
    "            # ... Append it to the connections list\n",
    "            nodeConnections.append(currNode)\n",
    "    \n",
    "    # Return the list of connections\n",
    "    return nodeConnections"
   ]
  },
  {
   "cell_type": "code",
   "execution_count": 10,
   "metadata": {},
   "outputs": [],
   "source": [
    "# Breadth first search stores parent nodes when searching\n",
    "# This goes from parent nodes array to shortest path\n",
    "# Takes in the end node plus an array corresponding to parents of all nodes\n",
    "def decodeNodeParents(endNode,nodeParents):\n",
    "    \n",
    "    # List to store shortest path\n",
    "    shortestPath = []\n",
    "    \n",
    "    # -2 represents end node has no parrent meaning no connections, return empty\n",
    "    if nodeParents[endNode] == -2:\n",
    "        return shortestPath\n",
    "    \n",
    "    # Set the current parent to end nodes parent, put end node in shortest path\n",
    "    currParent = nodeParents[endNode]\n",
    "    shortestPath.append(endNode)\n",
    "    \n",
    "    # -1 represents start node, loop until current parent is start node\n",
    "    while currParent != -1:\n",
    "        \n",
    "        # Add the current parent to the shortest path list\n",
    "        shortestPath.append(currParent)\n",
    "        \n",
    "        # Update current parent to the parent of the current parent\n",
    "        currParent = nodeParents[currParent]\n",
    "    \n",
    "    # currParent goes from end -> start, reverse to start -> end and return\n",
    "    return shortestPath[::-1]"
   ]
  },
  {
   "cell_type": "code",
   "execution_count": 11,
   "metadata": {},
   "outputs": [],
   "source": [
    "# Breadth first search algorithm to find shortest path\n",
    "# Takes in start node, end node, and the matrix of connections between nodes\n",
    "def getShortestPath(startNode,endNode,networkCon):\n",
    "    \n",
    "    # Lower and upper bounds to check if start and end nodes are in range\n",
    "    lowBound = 0\n",
    "    upBound = networkCon.shape[0]\n",
    "    \n",
    "    # Check if start node is out of range, return empty list if true\n",
    "    if (startNode < lowBound or startNode > upBound):\n",
    "        return []\n",
    "    \n",
    "    # Check if end node is out of range, return empty list if true\n",
    "    if (endNode < lowBound or endNode > upBound):\n",
    "        return []\n",
    "    \n",
    "    # Check if start node and end node are the same, return empty list if true\n",
    "    if (startNode == endNode):\n",
    "        return []\n",
    "    \n",
    "    # Create queue of nodes for search\n",
    "    queueNodes = deque()\n",
    "    queueNodes.append(startNode)\n",
    "    \n",
    "    # Create list of visited nodes\n",
    "    visitedNodes = [startNode]\n",
    "    \n",
    "    # Create a list of parent nodes\n",
    "    # -2 means no connections, whether it physically has no connections or wasn't visited in search\n",
    "    # -1 means the start node\n",
    "    # Starts as -2 for all nodes except start node, which will be -1\n",
    "    nodeParents = np.ones(networkCon.shape[0],dtype=int)*-2\n",
    "    nodeParents[startNode] = -1\n",
    "    \n",
    "    # Used to kick out of while loop when we find the end node\n",
    "    foundEnd = False\n",
    "    \n",
    "    # Loop while there are nodes to check for in our queue\n",
    "    while len(queueNodes) != 0:\n",
    "        \n",
    "        # Get the new node to check\n",
    "        currNode = queueNodes.popleft()\n",
    "        \n",
    "        # Get the new nodes connections\n",
    "        currNodeCon = getConnections(currNode,networkCon)\n",
    "        \n",
    "        # Loop through all the nodes connections...\n",
    "        for oneNode in currNodeCon:\n",
    "            \n",
    "            # ... if we haven't visited the node before...\n",
    "            if not(oneNode in visitedNodes):\n",
    "                \n",
    "                # Set the parent of the new node to the connection node in the node parents array\n",
    "                nodeParents[oneNode] = currNode\n",
    "                \n",
    "                # Set the connection node as visited\n",
    "                visitedNodes.append(oneNode)\n",
    "                \n",
    "                # Add the connection node to the queue\n",
    "                queueNodes.append(oneNode)\n",
    "                \n",
    "                # If the connection node is the end node, break out of overall loop\n",
    "                if oneNode == endNode:\n",
    "                    foundEnd = True\n",
    "                    break\n",
    "        \n",
    "        # If end node is found, break out of overall loop\n",
    "        if foundEnd:\n",
    "            break\n",
    "    \n",
    "    # Decode the shortest path that was found\n",
    "    shortestPathList = decodeNodeParents(endNode,nodeParents)\n",
    "    \n",
    "    # Return the list of the shortest path\n",
    "    return shortestPathList"
   ]
  },
  {
   "cell_type": "code",
   "execution_count": 12,
   "metadata": {},
   "outputs": [],
   "source": [
    "# This takes in a matrix of network connections,\n",
    "# Loops through it\n",
    "# And finds the largest of shortest paths with breadth first search\n",
    "def getLargestShortestPath(networkCon):\n",
    "    \n",
    "    # Holder for largest number of edges\n",
    "    largestNumEdges = 0\n",
    "    \n",
    "    # Loop through all nodes in the graph\n",
    "    for startNode in range(0,networkCon.shape[0]):\n",
    "        # Loop through the rest of the nodes in combinations not visited yet\n",
    "        for endNode in range(startNode+1,networkCon.shape[0]):\n",
    "            \n",
    "            # Get the shortest path between the nodes\n",
    "            onePath = getShortestPath(startNode,endNode,networkCon)\n",
    "            \n",
    "            # If the number of nodes in path is greater than previously found, replace with new number\n",
    "            if len(onePath)-1 > largestNumEdges:\n",
    "                largestNumEdges = len(onePath)-1\n",
    "    \n",
    "    # Return largest value\n",
    "    return largestNumEdges"
   ]
  },
  {
   "cell_type": "code",
   "execution_count": 13,
   "metadata": {},
   "outputs": [
    {
     "name": "stdout",
     "output_type": "stream",
     "text": [
      "5\n"
     ]
    }
   ],
   "source": [
    "data = copy.deepcopy(data_raw)\n",
    "networkCon = np.array(data)\n",
    "\n",
    "largestNumEdges = getLargestShortestPath(networkCon)\n",
    "print(largestNumEdges)"
   ]
  },
  {
   "cell_type": "code",
   "execution_count": 14,
   "metadata": {
    "scrolled": true
   },
   "outputs": [
    {
     "data": {
      "text/plain": [
       "'\\n#For test\\n\\nimport pandas as pd\\n\\ntest = pd.DataFrame(data_raw)\\ntest\\n'"
      ]
     },
     "execution_count": 14,
     "metadata": {},
     "output_type": "execute_result"
    }
   ],
   "source": [
    "'''\n",
    "#For test\n",
    "\n",
    "import pandas as pd\n",
    "\n",
    "test = pd.DataFrame(data_raw)\n",
    "test\n",
    "'''\n"
   ]
  }
 ],
 "metadata": {
  "kernelspec": {
   "display_name": "Python 3",
   "language": "python",
   "name": "python3"
  },
  "language_info": {
   "codemirror_mode": {
    "name": "ipython",
    "version": 3
   },
   "file_extension": ".py",
   "mimetype": "text/x-python",
   "name": "python",
   "nbconvert_exporter": "python",
   "pygments_lexer": "ipython3",
   "version": "3.7.3"
  }
 },
 "nbformat": 4,
 "nbformat_minor": 4
}
