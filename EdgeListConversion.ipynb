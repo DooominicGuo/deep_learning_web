{
 "cells": [
  {
   "cell_type": "code",
   "execution_count": 6,
   "metadata": {},
   "outputs": [],
   "source": [
    "import numpy as np\n",
    "import os"
   ]
  },
  {
   "cell_type": "markdown",
   "metadata": {},
   "source": [
    "# Generate List of Nodes"
   ]
  },
  {
   "cell_type": "code",
   "execution_count": 7,
   "metadata": {},
   "outputs": [],
   "source": [
    "nodes = set()\n",
    "\n",
    "# Change input file name here!\n",
    "with open(\"Review2.csv\", \"r\") as f:\n",
    "    f.readline()\n",
    "    for line in f:\n",
    "        node1, node2 = line.strip('\\n').split(',')\n",
    "        nodes.add(node1)\n",
    "        nodes.add(node2)\n",
    "        \n",
    "nodes = list(nodes)\n",
    "node_dict = dict(zip(nodes,range(len(nodes))))"
   ]
  },
  {
   "cell_type": "code",
   "execution_count": 8,
   "metadata": {},
   "outputs": [],
   "source": [
    "nodes = list(nodes)\n",
    "node_dict = dict(zip(nodes,range(len(nodes))))\n",
    "matrix = np.zeros((len(nodes),len(nodes)),dtype=int)"
   ]
  },
  {
   "cell_type": "markdown",
   "metadata": {},
   "source": [
    "## Generate The Adjacency Matrix"
   ]
  },
  {
   "cell_type": "code",
   "execution_count": 10,
   "metadata": {},
   "outputs": [],
   "source": [
    "# directed network\n",
    "matrix = np.zeros((len(nodes),len(nodes)),dtype=int)\n",
    "\n",
    "# read in the edge list again and add the edges to the adgacency matrix\n",
    "with open(\"Review2.csv\", \"r\") as f:\n",
    "    f.readline()\n",
    "    for line in f:\n",
    "        node1, node2 = line.strip('\\n').split(',')\n",
    "        matrix[node_dict[node1],node_dict[node2]] = 1"
   ]
  },
  {
   "cell_type": "code",
   "execution_count": null,
   "metadata": {},
   "outputs": [],
   "source": [
    "# non-directed --- diagnally symetrical\n",
    "matrix = np.zeros((len(nodes),len(nodes)),dtype=int)\n",
    "\n",
    "# read in the edge list again and add the edges to the adgacency matrix\n",
    "with open(\"Review2.csv\", \"r\") as f:\n",
    "    f.readline()\n",
    "    for line in f:\n",
    "        node1, node2 = line.strip('\\n').split(',')\n",
    "        matrix[node_dict[node1],node_dict[node2]] = 1\n",
    "        matrix[node_dict[node2],node_dict[node1]] = 1"
   ]
  },
  {
   "cell_type": "markdown",
   "metadata": {},
   "source": [
    "## Output to a KP File"
   ]
  },
  {
   "cell_type": "code",
   "execution_count": 11,
   "metadata": {},
   "outputs": [],
   "source": [
    "# Set the output directory!\n",
    "os.chdir(r\"C:\\Users\\Yaqi Wu\\AAProject\\kp\")"
   ]
  },
  {
   "cell_type": "code",
   "execution_count": 12,
   "metadata": {},
   "outputs": [],
   "source": [
    "# Change the output file name here!\n",
    "with open(\"review2.kp\",\"w+\") as f:\n",
    "    \n",
    "    f.write(str(len(nodes)) + \"\\n\")   # print the number of nodes on the first row\n",
    "    f.write(\"!nc\"+\"\\n\")               # indicate no coordinate on the second row\n",
    "    \n",
    "    # print the list of nodes to the file\n",
    "    for node in nodes:\n",
    "        f.write(node + \"\\n\")\n",
    "        \n",
    "    # print the adjacency matrix to the file\n",
    "    for row in matrix:\n",
    "        for element in row:\n",
    "            f.write(str(element))\n",
    "        f.write(\"\\n\")\n",
    "        \n",
    "    f.write(\"defaultFont = Times_New_Roman Plain 24\\n\")"
   ]
  },
  {
   "cell_type": "code",
   "execution_count": null,
   "metadata": {},
   "outputs": [],
   "source": []
  }
 ],
 "metadata": {
  "kernelspec": {
   "display_name": "Python 3",
   "language": "python",
   "name": "python3"
  },
  "language_info": {
   "codemirror_mode": {
    "name": "ipython",
    "version": 3
   },
   "file_extension": ".py",
   "mimetype": "text/x-python",
   "name": "python",
   "nbconvert_exporter": "python",
   "pygments_lexer": "ipython3",
   "version": "3.7.5"
  }
 },
 "nbformat": 4,
 "nbformat_minor": 2
}
