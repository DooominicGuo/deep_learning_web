{
 "cells": [
  {
   "cell_type": "code",
   "execution_count": 1,
   "metadata": {},
   "outputs": [],
   "source": [
    "import copy\n",
    "import numpy as np"
   ]
  },
  {
   "cell_type": "markdown",
   "metadata": {},
   "source": [
    "### Load data"
   ]
  },
  {
   "cell_type": "code",
   "execution_count": 2,
   "metadata": {},
   "outputs": [],
   "source": [
    "raw_data = []\n",
    "\n",
    "with open(\"./data/PortlandCirc.kp\", \"r\") as f:\n",
    "    for lines in f:\n",
    "        raw_data.append(lines)"
   ]
  },
  {
   "cell_type": "code",
   "execution_count": 3,
   "metadata": {},
   "outputs": [
    {
     "data": {
      "text/plain": [
       "['00010110110101001\\n',\n",
       " '00001001001000000\\n',\n",
       " '00000001001010110\\n',\n",
       " '10000110110001100\\n',\n",
       " '01000001001000010\\n']"
      ]
     },
     "execution_count": 3,
     "metadata": {},
     "output_type": "execute_result"
    }
   ],
   "source": [
    "n_line = int(raw_data[0])\n",
    "\n",
    "if(\"nl\" in raw_data[1]):\n",
    "    raw_relationship = raw_data[2: 2 + n_line]\n",
    "else:\n",
    "    raw_relationship = raw_data[1 + n_line: 1 + n_line * 2]\n",
    "    \n",
    "raw_relationship[0: 5]"
   ]
  },
  {
   "cell_type": "code",
   "execution_count": 4,
   "metadata": {},
   "outputs": [
    {
     "data": {
      "text/plain": [
       "[[0, 0, 0, 1, 0, 1, 1, 0, 1, 1, 0, 1, 0, 1, 0, 0, 1],\n",
       " [0, 0, 0, 0, 1, 0, 0, 1, 0, 0, 1, 0, 0, 0, 0, 0, 0],\n",
       " [0, 0, 0, 0, 0, 0, 0, 1, 0, 0, 1, 0, 1, 0, 1, 1, 0],\n",
       " [1, 0, 0, 0, 0, 1, 1, 0, 1, 1, 0, 0, 0, 1, 1, 0, 0],\n",
       " [0, 1, 0, 0, 0, 0, 0, 1, 0, 0, 1, 0, 0, 0, 0, 1, 0]]"
      ]
     },
     "execution_count": 4,
     "metadata": {},
     "output_type": "execute_result"
    }
   ],
   "source": [
    "data_raw = []\n",
    "\n",
    "for lines in raw_relationship:\n",
    "    lines = lines[: -1]\n",
    "    data_raw.append([int(nums) for nums in list(lines)])\n",
    "\n",
    "data_raw[: 5]"
   ]
  },
  {
   "cell_type": "markdown",
   "metadata": {},
   "source": [
    "### Number of Nodes"
   ]
  },
  {
   "cell_type": "code",
   "execution_count": 5,
   "metadata": {},
   "outputs": [
    {
     "name": "stdout",
     "output_type": "stream",
     "text": [
      "17\n"
     ]
    }
   ],
   "source": [
    "nums_component = len(data_raw)\n",
    "\n",
    "print(nums_component)"
   ]
  },
  {
   "cell_type": "markdown",
   "metadata": {},
   "source": [
    "### Number of Ties"
   ]
  },
  {
   "cell_type": "code",
   "execution_count": 6,
   "metadata": {},
   "outputs": [
    {
     "name": "stdout",
     "output_type": "stream",
     "text": [
      "41\n"
     ]
    }
   ],
   "source": [
    "nums_tie = 0\n",
    "\n",
    "data = copy.deepcopy(data_raw)\n",
    "length = len(data)\n",
    "\n",
    "for row in range(length):\n",
    "    for col in range(length):\n",
    "        if(data[row][col] == 1):\n",
    "            nums_tie += 1\n",
    "            data[col][row] = 0\n",
    "            \n",
    "print(nums_tie)"
   ]
  },
  {
   "cell_type": "markdown",
   "metadata": {},
   "source": [
    "### Number of Components"
   ]
  },
  {
   "cell_type": "code",
   "execution_count": null,
   "metadata": {},
   "outputs": [],
   "source": [
    "def dfs_double(data, row):\n",
    "    \n",
    "    '''\n",
    "    1. Find all the elements that connects to (1s in the rows)\n",
    "    2. Find all the elements that is connected to (1s in the cols)\n",
    "    '''\n",
    "    \n",
    "    length = len(data)\n",
    "    \n",
    "    for items in range(length):\n",
    "        if(data[row][items] == 0):\n",
    "            continue\n",
    "        data[row][items] = 0\n",
    "        data = dfs_double(data, row)\n",
    "    \n",
    "    for items in range(length):\n",
    "        if(data[items][row] == 0):\n",
    "            continue\n",
    "        data[items][row] = 0    \n",
    "        data = dfs_double(data, items)\n",
    "        \n",
    "    return data"
   ]
  },
  {
   "cell_type": "code",
   "execution_count": null,
   "metadata": {},
   "outputs": [],
   "source": [
    "nums_component = 0\n",
    "\n",
    "data = copy.deepcopy(data_raw)\n",
    "length = len(data)\n",
    "\n",
    "#get the elements that is not connected\n",
    "for i in range(len(data)):\n",
    "    if(1 not in data[i] and 1 not in np.array(data).T[i]):\n",
    "        nums_component += 1\n",
    "\n",
    "#use dfs to get the number of islands\n",
    "for row in range(length):\n",
    "    for col in range(length):\n",
    "        if(data[row][col] == 1):\n",
    "            nums_component += 1\n",
    "            data = dfs_double(data, row)\n",
    "            \n",
    "            \n",
    "print(nums_component)"
   ]
  },
  {
   "cell_type": "code",
   "execution_count": null,
   "metadata": {
    "scrolled": true
   },
   "outputs": [],
   "source": [
    "'''\n",
    "#For test\n",
    "\n",
    "import pandas as pd\n",
    "\n",
    "test = pd.DataFrame(data_raw)\n",
    "test\n",
    "'''\n"
   ]
  }
 ],
 "metadata": {
  "kernelspec": {
   "display_name": "Python 3",
   "language": "python",
   "name": "python3"
  },
  "language_info": {
   "codemirror_mode": {
    "name": "ipython",
    "version": 3
   },
   "file_extension": ".py",
   "mimetype": "text/x-python",
   "name": "python",
   "nbconvert_exporter": "python",
   "pygments_lexer": "ipython3",
   "version": "3.7.3"
  }
 },
 "nbformat": 4,
 "nbformat_minor": 4
}
